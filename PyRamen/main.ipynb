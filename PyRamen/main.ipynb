{
 "cells": [
  {
   "cell_type": "code",
   "execution_count": 9,
   "metadata": {},
   "outputs": [],
   "source": [
    "\n",
    "import csv\n",
    "from pathlib import Path\n",
    "# assigning varibels\n",
    "\n",
    "menu=[]\n",
    "sales=[]\n",
    "\n",
    "# opening the files and reading into the lists\n",
    "csvpath = Path('../PyRamen/menu_data.csv')\n",
    "with open(csvpath, newline='') as myFile:\n",
    "    reader = csv.reader(myFile)\n",
    "    next(reader)\n",
    "    for row in reader:\n",
    "        menu.append(row)\n",
    "csvpath = Path('../PyRamen/sales_data.csv')\n",
    "with open(csvpath, newline='') as myFile:\n",
    "    reader = csv.reader(myFile)\n",
    "    next(reader)\n",
    "    for row in reader:\n",
    "        sales.append(row)\n",
    "\n",
    "report={}\n",
    "\n",
    "for row in sales:\n",
    "    quantity =int(row[3])\n",
    "    sales_item = row[4]\n",
    "    if not sales_item in report:\n",
    "        report[sales_item]={\"01-count\": 0,\"02-revenue\": 0,\"03-cogs\": 0,\"04-profit\": 0}                                       \n",
    "    for row in menu:\n",
    "         item = row[0]\n",
    "         price = float(row[3])\n",
    "         cost =float(row[4])     \n",
    "         if sales_item == item:\n",
    "            profit=price-cost\n",
    "            report[sales_item][\"01-count\"] += quantity\n",
    "            report[sales_item][\"02-revenue\"] += price * quantity\n",
    "            report[sales_item][\"03-cogs\"] += cost * quantity\n",
    "            report[sales_item][\"04-profit\"] += profit * quantity\n",
    "         #else:\n",
    "          # print(f\"{sales_item} does not equal {item}! NO MATCH!\")\n",
    "\n",
    "#writing into a file and printing\n",
    "with open(Path(\"analysis.txt\"),\"w\") as file:\n",
    "  for key in report:\n",
    "      file.write(f\"{key} {report[key]}\\n\")\n"
   ]
  }
 ],
 "metadata": {
  "kernelspec": {
   "display_name": "Python 3",
   "language": "python",
   "name": "python3"
  },
  "language_info": {
   "codemirror_mode": {
    "name": "ipython",
    "version": 3
   },
   "file_extension": ".py",
   "mimetype": "text/x-python",
   "name": "python",
   "nbconvert_exporter": "python",
   "pygments_lexer": "ipython3",
   "version": "3.7.6"
  }
 },
 "nbformat": 4,
 "nbformat_minor": 4
}
