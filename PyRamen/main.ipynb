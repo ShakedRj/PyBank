{
 "cells": [
  {
   "cell_type": "code",
   "execution_count": null,
   "metadata": {},
   "outputs": [],
   "source": [
    "import csv\n",
    "import os\n",
    "import math\n",
    "\n",
    "# assigning varibels\n",
    "\n",
    "menu=[]\n",
    "sales=[]\n",
    "\n",
    "# opening the files and reading into the lists\n",
    "\n",
    "with open('menu_data.csv', newline='') as myFile:\n",
    "    reader = csv.reader(myFile)\n",
    "    next(reader)\n",
    "    for row in reader:\n",
    "        menu.append(row)\n",
    "\n",
    "with open('sales_data.csv', newline='') as myFile:\n",
    "    reader = csv.reader(myFile)\n",
    "    next(reader)\n",
    "    for row in reader:\n",
    "        sales.append(row)\n",
    "        "
   ]
  }
 ],
 "metadata": {
  "kernelspec": {
   "display_name": "Python 3",
   "language": "python",
   "name": "python3"
  },
  "language_info": {
   "codemirror_mode": {
    "name": "ipython",
    "version": 3
   },
   "file_extension": ".py",
   "mimetype": "text/x-python",
   "name": "python",
   "nbconvert_exporter": "python",
   "pygments_lexer": "ipython3",
   "version": "3.7.6"
  }
 },
 "nbformat": 4,
 "nbformat_minor": 4
}
