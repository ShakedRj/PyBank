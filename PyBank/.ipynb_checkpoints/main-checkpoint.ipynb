{
 "cells": [
  {
   "cell_type": "code",
   "execution_count": 10,
   "metadata": {},
   "outputs": [
    {
     "name": "stdout",
     "output_type": "stream",
     "text": [
      "Financial Analysis\n",
      "------------------------\n",
      "Total Months: 86\n",
      "Total: $38382578\n",
      "Average Change: $-2315.12\n",
      "Greatest Increase in Profits: Feb-2012 ($1926159)\n",
      "Greatest Decrease in Profits: Sep-2013 ($-2196167)\n"
     ]
    }
   ],
   "source": [
    "import csv\n",
    "from pathlib import Path\n",
    "\n",
    "# assigning varibels\n",
    "\n",
    "prof_loss=[]\n",
    "dates=[]\n",
    "\n",
    "# opening the file\n",
    "csvpath = Path('../PyBank/budget_data.csv')\n",
    "with open(csvpath, newline='') as myFile:\n",
    "    reader = csv.reader(myFile)\n",
    "    next(reader)\n",
    "    for row in reader:\n",
    "        prof_loss.append(row[1])\n",
    "        dates.append(row[0])\n",
    "        \n",
    "total_months=len(dates) \n",
    "total=sum(map(int,prof_loss))\n",
    "\n",
    "# calculating the avg change and greatest increase and decrease\n",
    "\n",
    "changes={}\n",
    "\n",
    "# matching every cahnge to the month with the dict\n",
    "\n",
    "for i in range(len(prof_loss)-1):\n",
    "    changes[dates[i+1]]=(int(prof_loss[i+1])-int(prof_loss[i]))\n",
    "\n",
    "avg_change=round(sum(changes.values())/len(changes),2)\n",
    "\n",
    "key_max = max(changes.keys(), key=(lambda k: changes[k]))\n",
    "key_min = min(changes.keys(), key=(lambda k: changes[k]))\n",
    "\n",
    "\n",
    "# printing header and details\n",
    "\n",
    "print (\"Financial Analysis\")\n",
    "print (\"------------------------\")\n",
    "print (f\"Total Months: {total_months}\")\n",
    "print (f\"Total: ${total}\")\n",
    "print (f\"Average Change: ${avg_change}\")\n",
    "print (\"Greatest Increase in Profits:\", key_max + \" ($\"+ str(changes[key_max])+\")\")\n",
    "print (\"Greatest Decrease in Profits:\" ,key_min +\" ($\" +str(changes[key_min])+\")\")\n",
    "\n",
    "# writing the analysis into a text file\n",
    "\n",
    "with open(Path(\"analysis.txt\"),\"w\") as file:\n",
    "    \n",
    "  file.write(f\"Financial Analysis\\n------------------------\\nTotal Months: {total_months}\\nTotal: ${total}\\nAverage Change: ${avg_change}\\nGreatest Increase in Profits: {key_max} (${changes[key_max]})\\nGreatest Decrease in Profits: {key_min} (${changes[key_min]})\")\n",
    "    "
   ]
  }
 ],
 "metadata": {
  "kernelspec": {
   "display_name": "Python 3",
   "language": "python",
   "name": "python3"
  },
  "language_info": {
   "codemirror_mode": {
    "name": "ipython",
    "version": 3
   },
   "file_extension": ".py",
   "mimetype": "text/x-python",
   "name": "python",
   "nbconvert_exporter": "python",
   "pygments_lexer": "ipython3",
   "version": "3.7.6"
  }
 },
 "nbformat": 4,
 "nbformat_minor": 4
}
